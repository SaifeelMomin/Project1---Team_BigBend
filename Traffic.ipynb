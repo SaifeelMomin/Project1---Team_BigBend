{
 "cells": [
  {
   "cell_type": "code",
   "execution_count": 1,
   "metadata": {},
   "outputs": [],
   "source": [
    "# Dependencies\n",
    "import matplotlib.pyplot as plt\n",
    "import pandas as pd\n",
    "import numpy as np\n",
    "import requests\n",
    "import json\n",
    "import os\n",
    "from math import radians, sin, cos, acos"
   ]
  },
  {
   "cell_type": "code",
   "execution_count": 2,
   "metadata": {},
   "outputs": [],
   "source": [
    "url = \"https://services.arcgis.com/KTcxiTD9dsQw4r7Z/arcgis/rest/services/TxDOT_AADT_Annuals/FeatureServer/0/query?where=1%3D1&outFields=*&outSR=4326&f=json\"\n",
    "r = requests.get(url)\n",
    "txdot_data = r.json()"
   ]
  },
  {
   "cell_type": "code",
   "execution_count": 3,
   "metadata": {},
   "outputs": [],
   "source": [
    "clean_txdot_data = txdot_data[\"features\"]"
   ]
  },
  {
   "cell_type": "code",
   "execution_count": 4,
   "metadata": {},
   "outputs": [],
   "source": [
    "count = 0\n",
    "city = []\n",
    "county = []\n",
    "AADT_2013 = []\n",
    "AADT_2014 = []\n",
    "AADT_2015 = []\n",
    "AADT_2016 = []\n",
    "AADT_2017 = []\n",
    "AADT_2018 = []\n",
    "T_FLAG = []\n",
    "x_loc = []\n",
    "y_loc = []"
   ]
  },
  {
   "cell_type": "code",
   "execution_count": 5,
   "metadata": {},
   "outputs": [],
   "source": [
    "for e in clean_txdot_data:\n",
    "    city.append(clean_txdot_data[count][\"attributes\"][\"DIST_NM\"])\n",
    "    county.append(clean_txdot_data[count][\"attributes\"][\"CNTY_NM\"]) \n",
    "    AADT_2013.append(clean_txdot_data[count][\"attributes\"][\"AADT_2013\"]) \n",
    "    AADT_2014.append(clean_txdot_data[count][\"attributes\"][\"AADT_2014\"]) \n",
    "    AADT_2015.append(clean_txdot_data[count][\"attributes\"][\"AADT_2015\"]) \n",
    "    AADT_2016.append(clean_txdot_data[count][\"attributes\"][\"AADT_2016\"]) \n",
    "    AADT_2017.append(clean_txdot_data[count][\"attributes\"][\"AADT_2017\"]) \n",
    "    AADT_2018.append(clean_txdot_data[count][\"attributes\"][\"AADT_2018\"]) \n",
    "    T_FLAG.append(clean_txdot_data[count][\"attributes\"][\"T_FLAG\"]) \n",
    "    x_loc.append(clean_txdot_data[count][\"geometry\"][\"x\"])\n",
    "    y_loc.append(clean_txdot_data[count][\"geometry\"][\"y\"])\n",
    "    count += 1 \n"
   ]
  },
  {
   "cell_type": "code",
   "execution_count": 6,
   "metadata": {},
   "outputs": [],
   "source": [
    "tx_dot_df = pd.DataFrame({\"City\": city,\n",
    "                         \"County\": county,\n",
    "                         \"AADT_2013\": AADT_2013,\n",
    "                         \"AADT_2014\": AADT_2014,\n",
    "                         \"AADT_2015\": AADT_2015,\n",
    "                         \"AADT_2016\": AADT_2016,\n",
    "                         \"AADT_2017\": AADT_2017,\n",
    "                         \"AADT_2018\": AADT_2018,\n",
    "                         \"T_FLAG\": T_FLAG,\n",
    "                         \"Longitude\": x_loc,\n",
    "                         \"Latitude\": y_loc})"
   ]
  },
  {
   "cell_type": "code",
   "execution_count": 7,
   "metadata": {},
   "outputs": [
    {
     "data": {
      "text/html": [
       "<div>\n",
       "<style scoped>\n",
       "    .dataframe tbody tr th:only-of-type {\n",
       "        vertical-align: middle;\n",
       "    }\n",
       "\n",
       "    .dataframe tbody tr th {\n",
       "        vertical-align: top;\n",
       "    }\n",
       "\n",
       "    .dataframe thead th {\n",
       "        text-align: right;\n",
       "    }\n",
       "</style>\n",
       "<table border=\"1\" class=\"dataframe\">\n",
       "  <thead>\n",
       "    <tr style=\"text-align: right;\">\n",
       "      <th></th>\n",
       "      <th>City</th>\n",
       "      <th>County</th>\n",
       "      <th>AADT_2013</th>\n",
       "      <th>AADT_2014</th>\n",
       "      <th>AADT_2015</th>\n",
       "      <th>AADT_2016</th>\n",
       "      <th>AADT_2017</th>\n",
       "      <th>AADT_2018</th>\n",
       "      <th>T_FLAG</th>\n",
       "      <th>Longitude</th>\n",
       "      <th>Latitude</th>\n",
       "    </tr>\n",
       "  </thead>\n",
       "  <tbody>\n",
       "    <tr>\n",
       "      <th>0</th>\n",
       "      <td>El Paso</td>\n",
       "      <td>El Paso</td>\n",
       "      <td>0</td>\n",
       "      <td>0</td>\n",
       "      <td>0</td>\n",
       "      <td>0</td>\n",
       "      <td>1473</td>\n",
       "      <td>234</td>\n",
       "      <td>72H206T</td>\n",
       "      <td>-106.143404</td>\n",
       "      <td>31.437593</td>\n",
       "    </tr>\n",
       "    <tr>\n",
       "      <th>1</th>\n",
       "      <td>El Paso</td>\n",
       "      <td>El Paso</td>\n",
       "      <td>980</td>\n",
       "      <td>1073</td>\n",
       "      <td>1153</td>\n",
       "      <td>515</td>\n",
       "      <td>399</td>\n",
       "      <td>1097</td>\n",
       "      <td>72H208</td>\n",
       "      <td>-106.139529</td>\n",
       "      <td>31.443774</td>\n",
       "    </tr>\n",
       "    <tr>\n",
       "      <th>2</th>\n",
       "      <td>El Paso</td>\n",
       "      <td>El Paso</td>\n",
       "      <td>0</td>\n",
       "      <td>0</td>\n",
       "      <td>0</td>\n",
       "      <td>0</td>\n",
       "      <td>1450</td>\n",
       "      <td>1603</td>\n",
       "      <td>72SP398</td>\n",
       "      <td>-106.136073</td>\n",
       "      <td>31.441858</td>\n",
       "    </tr>\n",
       "    <tr>\n",
       "      <th>3</th>\n",
       "      <td>El Paso</td>\n",
       "      <td>El Paso</td>\n",
       "      <td>0</td>\n",
       "      <td>0</td>\n",
       "      <td>0</td>\n",
       "      <td>0</td>\n",
       "      <td>1092</td>\n",
       "      <td>2365</td>\n",
       "      <td>72H224</td>\n",
       "      <td>-106.134188</td>\n",
       "      <td>31.445846</td>\n",
       "    </tr>\n",
       "    <tr>\n",
       "      <th>4</th>\n",
       "      <td>El Paso</td>\n",
       "      <td>El Paso</td>\n",
       "      <td>393</td>\n",
       "      <td>362</td>\n",
       "      <td>455</td>\n",
       "      <td>439</td>\n",
       "      <td>630</td>\n",
       "      <td>803</td>\n",
       "      <td>72H205</td>\n",
       "      <td>-106.099322</td>\n",
       "      <td>31.452707</td>\n",
       "    </tr>\n",
       "  </tbody>\n",
       "</table>\n",
       "</div>"
      ],
      "text/plain": [
       "      City   County  AADT_2013  AADT_2014  AADT_2015  AADT_2016  AADT_2017  \\\n",
       "0  El Paso  El Paso          0          0          0          0       1473   \n",
       "1  El Paso  El Paso        980       1073       1153        515        399   \n",
       "2  El Paso  El Paso          0          0          0          0       1450   \n",
       "3  El Paso  El Paso          0          0          0          0       1092   \n",
       "4  El Paso  El Paso        393        362        455        439        630   \n",
       "\n",
       "   AADT_2018   T_FLAG   Longitude   Latitude  \n",
       "0        234  72H206T -106.143404  31.437593  \n",
       "1       1097   72H208 -106.139529  31.443774  \n",
       "2       1603  72SP398 -106.136073  31.441858  \n",
       "3       2365   72H224 -106.134188  31.445846  \n",
       "4        803   72H205 -106.099322  31.452707  "
      ]
     },
     "execution_count": 7,
     "metadata": {},
     "output_type": "execute_result"
    }
   ],
   "source": [
    "tx_dot_df.head()"
   ]
  },
  {
   "cell_type": "code",
   "execution_count": 8,
   "metadata": {},
   "outputs": [
    {
     "data": {
      "image/png": "[encoded data removed]",
      "text/plain": [
       "<Figure size 432x288 with 1 Axes>"
      ]
     },
     "metadata": {
      "needs_background": "light"
     },
     "output_type": "display_data"
    }
   ],
   "source": [
    "x = tx_dot_df[\"Longitude\"]\n",
    "y = tx_dot_df[\"Latitude\"]\n",
    "plt.scatter(x,y, s = 1)\n",
    "plt.axis(\"off\")\n",
    "plt.savefig(\"Traffic_Density/Pictures/Texas.png\")\n",
    "plt.show()"
   ]
  },
  {
   "cell_type": "markdown",
   "metadata": {},
   "source": [
    "##### Count Station data on I35 next to 5th Street"
   ]
  },
  {
   "cell_type": "code",
   "execution_count": 9,
   "metadata": {},
   "outputs": [
    {
     "data": {
      "text/html": [
       "<div>\n",
       "<style scoped>\n",
       "    .dataframe tbody tr th:only-of-type {\n",
       "        vertical-align: middle;\n",
       "    }\n",
       "\n",
       "    .dataframe tbody tr th {\n",
       "        vertical-align: top;\n",
       "    }\n",
       "\n",
       "    .dataframe thead th {\n",
       "        text-align: right;\n",
       "    }\n",
       "</style>\n",
       "<table border=\"1\" class=\"dataframe\">\n",
       "  <thead>\n",
       "    <tr style=\"text-align: right;\">\n",
       "      <th></th>\n",
       "      <th>City</th>\n",
       "      <th>County</th>\n",
       "      <th>2014</th>\n",
       "      <th>2015</th>\n",
       "      <th>2016</th>\n",
       "      <th>2017</th>\n",
       "      <th>2018</th>\n",
       "      <th>T_FLAG</th>\n",
       "      <th>Longitude</th>\n",
       "      <th>Latitude</th>\n",
       "    </tr>\n",
       "  </thead>\n",
       "  <tbody>\n",
       "    <tr>\n",
       "      <th>M_CR</th>\n",
       "      <td>Austin</td>\n",
       "      <td>Travis</td>\n",
       "      <td>132924</td>\n",
       "      <td>158533</td>\n",
       "      <td>159036</td>\n",
       "      <td>163583</td>\n",
       "      <td>174512</td>\n",
       "      <td>227S6A</td>\n",
       "      <td>-97.771927</td>\n",
       "      <td>30.273519</td>\n",
       "    </tr>\n",
       "    <tr>\n",
       "      <th>5_35</th>\n",
       "      <td>Austin</td>\n",
       "      <td>Travis</td>\n",
       "      <td>168432</td>\n",
       "      <td>176455</td>\n",
       "      <td>182216</td>\n",
       "      <td>178918</td>\n",
       "      <td>178106</td>\n",
       "      <td>227H115A</td>\n",
       "      <td>-97.734780</td>\n",
       "      <td>30.265361</td>\n",
       "    </tr>\n",
       "    <tr>\n",
       "      <th>M_CM</th>\n",
       "      <td>Austin</td>\n",
       "      <td>Travis</td>\n",
       "      <td>127578</td>\n",
       "      <td>138631</td>\n",
       "      <td>139466</td>\n",
       "      <td>144329</td>\n",
       "      <td>157489</td>\n",
       "      <td>227H187</td>\n",
       "      <td>-97.755913</td>\n",
       "      <td>30.323087</td>\n",
       "    </tr>\n",
       "    <tr>\n",
       "      <th>35_290</th>\n",
       "      <td>Austin</td>\n",
       "      <td>Travis</td>\n",
       "      <td>214739</td>\n",
       "      <td>235863</td>\n",
       "      <td>241704</td>\n",
       "      <td>231256</td>\n",
       "      <td>239347</td>\n",
       "      <td>227H119</td>\n",
       "      <td>-97.707604</td>\n",
       "      <td>30.316524</td>\n",
       "    </tr>\n",
       "  </tbody>\n",
       "</table>\n",
       "</div>"
      ],
      "text/plain": [
       "          City  County    2014    2015    2016    2017    2018    T_FLAG  \\\n",
       "M_CR    Austin  Travis  132924  158533  159036  163583  174512    227S6A   \n",
       "5_35    Austin  Travis  168432  176455  182216  178918  178106  227H115A   \n",
       "M_CM    Austin  Travis  127578  138631  139466  144329  157489   227H187   \n",
       "35_290  Austin  Travis  214739  235863  241704  231256  239347   227H119   \n",
       "\n",
       "        Longitude   Latitude  \n",
       "M_CR   -97.771927  30.273519  \n",
       "5_35   -97.734780  30.265361  \n",
       "M_CM   -97.755913  30.323087  \n",
       "35_290 -97.707604  30.316524  "
      ]
     },
     "execution_count": 9,
     "metadata": {},
     "output_type": "execute_result"
    }
   ],
   "source": [
    "count_station = tx_dot_df.loc[tx_dot_df[\"T_FLAG\"].isin([\"227H115A\",\"227H119\",\"227S6A\",\"227H187\"])]\\\n",
    "        .drop(columns=['AADT_2013'])\\\n",
    "        .rename(columns = {'AADT_2014':'2014',\n",
    "                          'AADT_2015':'2015',\n",
    "                          'AADT_2016':'2016',\n",
    "                          'AADT_2017':'2017',\n",
    "                          'AADT_2018':'2018'})\\\n",
    "        .rename(index={13570: \"M_CR\", 13578: \"5_35\", 13602: \"M_CM\", 13621: \"35_290\"})\n",
    "count_station"
   ]
  },
  {
   "cell_type": "markdown",
   "metadata": {},
   "source": [
    "##### Finding the distance between the counting stations on I35"
   ]
  },
  {
   "cell_type": "code",
   "execution_count": 10,
   "metadata": {},
   "outputs": [],
   "source": [
    "slat1 = radians(count_station.iloc[1,9])\n",
    "slon1 = radians(count_station.iloc[1,8])\n",
    "elat1 = radians(count_station.iloc[3,9])\n",
    "elon1 = radians(count_station.iloc[3,8])\n",
    "\n",
    "dist_km = 6371.01 * acos(sin(slat1)*sin(elat1) + cos(slat1)*cos(elat1)*cos(slon1 - elon1))\n",
    "dist_miles = dist_km / 1.609"
   ]
  },
  {
   "cell_type": "markdown",
   "metadata": {},
   "source": [
    "##### Finding the distance between the counting stations on Mopac"
   ]
  },
  {
   "cell_type": "code",
   "execution_count": 11,
   "metadata": {},
   "outputs": [],
   "source": [
    "slat2 = radians(count_station.iloc[0,9])\n",
    "slon2 = radians(count_station.iloc[0,8])\n",
    "elat2 = radians(count_station.iloc[2,9])\n",
    "elon2 = radians(count_station.iloc[2,8])\n",
    "\n",
    "dist_km = 6371.01 * acos(sin(slat2)*sin(elat2) + cos(slat2)*cos(elat2)*cos(slon2 - elon2))\n",
    "dist_miles2 = dist_km / 1.609"
   ]
  },
  {
   "cell_type": "markdown",
   "metadata": {},
   "source": [
    "##### Average number of cars traveling between the count stations on I35"
   ]
  },
  {
   "cell_type": "code",
   "execution_count": 12,
   "metadata": {},
   "outputs": [],
   "source": [
    "a2014 = (count_station.iloc[1,2] + count_station.iloc[3,2]/2/dist_miles)\n",
    "a2015 = (count_station.iloc[1,3] + count_station.iloc[3,3]/2/dist_miles)\n",
    "a2016 = (count_station.iloc[1,4] + count_station.iloc[3,4]/2/dist_miles)\n",
    "a2017 = (count_station.iloc[1,5] + count_station.iloc[3,5]/2/dist_miles)\n",
    "a2018 = (count_station.iloc[1,6] + count_station.iloc[3,6]/2/dist_miles)"
   ]
  },
  {
   "cell_type": "markdown",
   "metadata": {},
   "source": [
    "##### Average number of cars traveling between the count stations on Mopac"
   ]
  },
  {
   "cell_type": "code",
   "execution_count": 13,
   "metadata": {},
   "outputs": [],
   "source": [
    "b2014 = (count_station.iloc[0,2] + count_station.iloc[2,2]/2/dist_miles2)\n",
    "b2015 = (count_station.iloc[0,3] + count_station.iloc[2,3]/2/dist_miles2)\n",
    "b2016 = (count_station.iloc[0,4] + count_station.iloc[2,4]/2/dist_miles2)\n",
    "b2017 = (count_station.iloc[0,5] + count_station.iloc[2,5]/2/dist_miles2)\n",
    "b2018 = (count_station.iloc[0,6] + count_station.iloc[2,6]/2/dist_miles2)"
   ]
  },
  {
   "cell_type": "markdown",
   "metadata": {},
   "source": [
    "##### Traffic Density DataFrame"
   ]
  },
  {
   "cell_type": "code",
   "execution_count": 14,
   "metadata": {},
   "outputs": [
    {
     "data": {
      "text/html": [
       "<div>\n",
       "<style scoped>\n",
       "    .dataframe tbody tr th:only-of-type {\n",
       "        vertical-align: middle;\n",
       "    }\n",
       "\n",
       "    .dataframe tbody tr th {\n",
       "        vertical-align: top;\n",
       "    }\n",
       "\n",
       "    .dataframe thead th {\n",
       "        text-align: right;\n",
       "    }\n",
       "</style>\n",
       "<table border=\"1\" class=\"dataframe\">\n",
       "  <thead>\n",
       "    <tr style=\"text-align: right;\">\n",
       "      <th></th>\n",
       "      <th>year</th>\n",
       "      <th>cars on 35</th>\n",
       "      <th>cars on mopac</th>\n",
       "    </tr>\n",
       "  </thead>\n",
       "  <tbody>\n",
       "    <tr>\n",
       "      <th>0</th>\n",
       "      <td>2014</td>\n",
       "      <td>196033.858720</td>\n",
       "      <td>150860.749234</td>\n",
       "    </tr>\n",
       "    <tr>\n",
       "      <th>1</th>\n",
       "      <td>2015</td>\n",
       "      <td>206772.069574</td>\n",
       "      <td>178023.738866</td>\n",
       "    </tr>\n",
       "    <tr>\n",
       "      <th>2</th>\n",
       "      <td>2016</td>\n",
       "      <td>213283.852882</td>\n",
       "      <td>178644.135170</td>\n",
       "    </tr>\n",
       "    <tr>\n",
       "      <th>3</th>\n",
       "      <td>2017</td>\n",
       "      <td>208642.900648</td>\n",
       "      <td>183874.845618</td>\n",
       "    </tr>\n",
       "    <tr>\n",
       "      <th>4</th>\n",
       "      <td>2018</td>\n",
       "      <td>208870.891702</td>\n",
       "      <td>196654.067599</td>\n",
       "    </tr>\n",
       "  </tbody>\n",
       "</table>\n",
       "</div>"
      ],
      "text/plain": [
       "   year     cars on 35  cars on mopac\n",
       "0  2014  196033.858720  150860.749234\n",
       "1  2015  206772.069574  178023.738866\n",
       "2  2016  213283.852882  178644.135170\n",
       "3  2017  208642.900648  183874.845618\n",
       "4  2018  208870.891702  196654.067599"
      ]
     },
     "execution_count": 14,
     "metadata": {},
     "output_type": "execute_result"
    }
   ],
   "source": [
    "traffic_density_df = pd.DataFrame([{\"year\": \"2014\", \"cars on 35\": a2014, \"cars on mopac\": b2014},\n",
    "                    {\"year\": \"2015\", \"cars on 35\": a2015, \"cars on mopac\": b2015},\n",
    "                    {\"year\": \"2016\", \"cars on 35\": a2016, \"cars on mopac\": b2016},\n",
    "                    {\"year\": \"2017\", \"cars on 35\": a2017, \"cars on mopac\": b2017},\n",
    "                    {\"year\": \"2018\", \"cars on 35\": a2018, \"cars on mopac\": b2018}\n",
    "                   ])\n",
    "traffic_density_df"
   ]
  },
  {
   "cell_type": "markdown",
   "metadata": {},
   "source": [
    "##### Traffic Density Plot"
   ]
  },
  {
   "cell_type": "code",
   "execution_count": 15,
   "metadata": {},
   "outputs": [
    {
     "data": {
      "image/png": "[encoded data removed]",
      "text/plain": [
       "<Figure size 432x288 with 1 Axes>"
      ]
     },
     "metadata": {
      "needs_background": "light"
     },
     "output_type": "display_data"
    }
   ],
   "source": [
    "plt.plot(traffic_density_df[\"year\"],traffic_density_df[\"cars on 35\"])\n",
    "plt.plot(traffic_density_df[\"year\"],traffic_density_df[\"cars on mopac\"])\n",
    "\n",
    "plt.xlabel(\"Year\")\n",
    "plt.ylabel(\"Traffic Density\")\n",
    "plt.title(\"Year vs. Traffic Density\")\n",
    "plt.grid()\n",
    "plt.legend([\"I35\",\"Mopac\"])\n",
    "plt.savefig(\"Traffic_Density/Pictures/Traffic_Density.png\")\n",
    "plt.show()"
   ]
  },
  {
   "cell_type": "markdown",
   "metadata": {},
   "source": [
    "##### AADT of Greater Austin surrounding area grouped by County"
   ]
  },
  {
   "cell_type": "code",
   "execution_count": 16,
   "metadata": {},
   "outputs": [
    {
     "data": {
      "text/html": [
       "<div>\n",
       "<style scoped>\n",
       "    .dataframe tbody tr th:only-of-type {\n",
       "        vertical-align: middle;\n",
       "    }\n",
       "\n",
       "    .dataframe tbody tr th {\n",
       "        vertical-align: top;\n",
       "    }\n",
       "\n",
       "    .dataframe thead th {\n",
       "        text-align: right;\n",
       "    }\n",
       "</style>\n",
       "<table border=\"1\" class=\"dataframe\">\n",
       "  <thead>\n",
       "    <tr style=\"text-align: right;\">\n",
       "      <th></th>\n",
       "      <th>County</th>\n",
       "      <th>2014</th>\n",
       "      <th>2015</th>\n",
       "      <th>2016</th>\n",
       "      <th>2017</th>\n",
       "      <th>2018</th>\n",
       "    </tr>\n",
       "  </thead>\n",
       "  <tbody>\n",
       "    <tr>\n",
       "      <th>0</th>\n",
       "      <td>Bastrop</td>\n",
       "      <td>1261303</td>\n",
       "      <td>1359191</td>\n",
       "      <td>1402443</td>\n",
       "      <td>1383032</td>\n",
       "      <td>1523780</td>\n",
       "    </tr>\n",
       "    <tr>\n",
       "      <th>1</th>\n",
       "      <td>Blanco</td>\n",
       "      <td>222117</td>\n",
       "      <td>294814</td>\n",
       "      <td>251890</td>\n",
       "      <td>256315</td>\n",
       "      <td>275459</td>\n",
       "    </tr>\n",
       "    <tr>\n",
       "      <th>2</th>\n",
       "      <td>Burnet</td>\n",
       "      <td>562338</td>\n",
       "      <td>622879</td>\n",
       "      <td>653060</td>\n",
       "      <td>631378</td>\n",
       "      <td>730347</td>\n",
       "    </tr>\n",
       "    <tr>\n",
       "      <th>3</th>\n",
       "      <td>Caldwell</td>\n",
       "      <td>493104</td>\n",
       "      <td>528521</td>\n",
       "      <td>558772</td>\n",
       "      <td>674054</td>\n",
       "      <td>711293</td>\n",
       "    </tr>\n",
       "    <tr>\n",
       "      <th>4</th>\n",
       "      <td>Gillespie</td>\n",
       "      <td>289665</td>\n",
       "      <td>377365</td>\n",
       "      <td>327191</td>\n",
       "      <td>359710</td>\n",
       "      <td>346208</td>\n",
       "    </tr>\n",
       "    <tr>\n",
       "      <th>5</th>\n",
       "      <td>Hays</td>\n",
       "      <td>2354095</td>\n",
       "      <td>2565262</td>\n",
       "      <td>2707284</td>\n",
       "      <td>2659963</td>\n",
       "      <td>2834725</td>\n",
       "    </tr>\n",
       "    <tr>\n",
       "      <th>6</th>\n",
       "      <td>Lee</td>\n",
       "      <td>359399</td>\n",
       "      <td>374507</td>\n",
       "      <td>336099</td>\n",
       "      <td>349228</td>\n",
       "      <td>375877</td>\n",
       "    </tr>\n",
       "    <tr>\n",
       "      <th>7</th>\n",
       "      <td>Llano</td>\n",
       "      <td>243522</td>\n",
       "      <td>297515</td>\n",
       "      <td>291416</td>\n",
       "      <td>275050</td>\n",
       "      <td>293366</td>\n",
       "    </tr>\n",
       "    <tr>\n",
       "      <th>8</th>\n",
       "      <td>Mason</td>\n",
       "      <td>74853</td>\n",
       "      <td>84874</td>\n",
       "      <td>77223</td>\n",
       "      <td>72075</td>\n",
       "      <td>79011</td>\n",
       "    </tr>\n",
       "    <tr>\n",
       "      <th>9</th>\n",
       "      <td>Travis</td>\n",
       "      <td>12900946</td>\n",
       "      <td>14420060</td>\n",
       "      <td>14950796</td>\n",
       "      <td>15266997</td>\n",
       "      <td>16388126</td>\n",
       "    </tr>\n",
       "    <tr>\n",
       "      <th>10</th>\n",
       "      <td>Williamson</td>\n",
       "      <td>5074504</td>\n",
       "      <td>5074217</td>\n",
       "      <td>5466111</td>\n",
       "      <td>6230758</td>\n",
       "      <td>6809710</td>\n",
       "    </tr>\n",
       "  </tbody>\n",
       "</table>\n",
       "</div>"
      ],
      "text/plain": [
       "        County      2014      2015      2016      2017      2018\n",
       "0      Bastrop   1261303   1359191   1402443   1383032   1523780\n",
       "1       Blanco    222117    294814    251890    256315    275459\n",
       "2       Burnet    562338    622879    653060    631378    730347\n",
       "3     Caldwell    493104    528521    558772    674054    711293\n",
       "4    Gillespie    289665    377365    327191    359710    346208\n",
       "5         Hays   2354095   2565262   2707284   2659963   2834725\n",
       "6          Lee    359399    374507    336099    349228    375877\n",
       "7        Llano    243522    297515    291416    275050    293366\n",
       "8        Mason     74853     84874     77223     72075     79011\n",
       "9       Travis  12900946  14420060  14950796  15266997  16388126\n",
       "10  Williamson   5074504   5074217   5466111   6230758   6809710"
      ]
     },
     "execution_count": 16,
     "metadata": {},
     "output_type": "execute_result"
    }
   ],
   "source": [
    "greater_austin_df = tx_dot_df.loc[tx_dot_df[\"City\"] == \"Austin\"].groupby(\"County\").sum().reset_index()\\\n",
    "                    .drop(columns=['AADT_2013','Longitude','Latitude'])\\\n",
    "                    .rename(columns = {'AADT_2014':'2014',\n",
    "                                       'AADT_2015':'2015',\n",
    "                                       'AADT_2016':'2016',\n",
    "                                       'AADT_2017':'2017',\n",
    "                                       'AADT_2018':'2018'})\n",
    "\n",
    "greater_austin_df"
   ]
  },
  {
   "cell_type": "markdown",
   "metadata": {},
   "source": [
    "##### AADT of major counties in and surrounding Austin area"
   ]
  },
  {
   "cell_type": "code",
   "execution_count": 17,
   "metadata": {},
   "outputs": [],
   "source": [
    "austin_df = greater_austin_df.loc[greater_austin_df[\"County\"].isin([\"Hays\",\"Travis\",\"Williamson\"])]\\\n",
    "            .set_index(\"County\").rename(columns = {'AADT_2014':'2014',\n",
    "                                                  'AADT_2015':'2015',\n",
    "                                                  'AADT_2016':'2016',\n",
    "                                                  'AADT_2017':'2017',\n",
    "                                                  'AADT_2018':'201'})\n",
    "\n",
    "\n",
    "austin_df.loc['Total'] = austin_df.sum(numeric_only=True, axis=0)\n"
   ]
  },
  {
   "cell_type": "code",
   "execution_count": 18,
   "metadata": {},
   "outputs": [
    {
     "data": {
      "text/html": [
       "<div>\n",
       "<style scoped>\n",
       "    .dataframe tbody tr th:only-of-type {\n",
       "        vertical-align: middle;\n",
       "    }\n",
       "\n",
       "    .dataframe tbody tr th {\n",
       "        vertical-align: top;\n",
       "    }\n",
       "\n",
       "    .dataframe thead th {\n",
       "        text-align: right;\n",
       "    }\n",
       "</style>\n",
       "<table border=\"1\" class=\"dataframe\">\n",
       "  <thead>\n",
       "    <tr style=\"text-align: right;\">\n",
       "      <th></th>\n",
       "      <th>2014</th>\n",
       "      <th>2015</th>\n",
       "      <th>2016</th>\n",
       "      <th>2017</th>\n",
       "      <th>2018</th>\n",
       "    </tr>\n",
       "    <tr>\n",
       "      <th>County</th>\n",
       "      <th></th>\n",
       "      <th></th>\n",
       "      <th></th>\n",
       "      <th></th>\n",
       "      <th></th>\n",
       "    </tr>\n",
       "  </thead>\n",
       "  <tbody>\n",
       "    <tr>\n",
       "      <th>Hays</th>\n",
       "      <td>2354095</td>\n",
       "      <td>2565262</td>\n",
       "      <td>2707284</td>\n",
       "      <td>2659963</td>\n",
       "      <td>2834725</td>\n",
       "    </tr>\n",
       "    <tr>\n",
       "      <th>Travis</th>\n",
       "      <td>12900946</td>\n",
       "      <td>14420060</td>\n",
       "      <td>14950796</td>\n",
       "      <td>15266997</td>\n",
       "      <td>16388126</td>\n",
       "    </tr>\n",
       "    <tr>\n",
       "      <th>Williamson</th>\n",
       "      <td>5074504</td>\n",
       "      <td>5074217</td>\n",
       "      <td>5466111</td>\n",
       "      <td>6230758</td>\n",
       "      <td>6809710</td>\n",
       "    </tr>\n",
       "    <tr>\n",
       "      <th>Total</th>\n",
       "      <td>20329545</td>\n",
       "      <td>22059539</td>\n",
       "      <td>23124191</td>\n",
       "      <td>24157718</td>\n",
       "      <td>26032561</td>\n",
       "    </tr>\n",
       "  </tbody>\n",
       "</table>\n",
       "</div>"
      ],
      "text/plain": [
       "                2014      2015      2016      2017      2018\n",
       "County                                                      \n",
       "Hays         2354095   2565262   2707284   2659963   2834725\n",
       "Travis      12900946  14420060  14950796  15266997  16388126\n",
       "Williamson   5074504   5074217   5466111   6230758   6809710\n",
       "Total       20329545  22059539  23124191  24157718  26032561"
      ]
     },
     "execution_count": 18,
     "metadata": {},
     "output_type": "execute_result"
    }
   ],
   "source": [
    "austin_df"
   ]
  },
  {
   "cell_type": "markdown",
   "metadata": {},
   "source": [
    "##### AADT plot of Austin Area"
   ]
  },
  {
   "cell_type": "code",
   "execution_count": 19,
   "metadata": {},
   "outputs": [
    {
     "data": {
      "image/png": "[encoded data removed]",
      "text/plain": [
       "<Figure size 432x288 with 1 Axes>"
      ]
     },
     "metadata": {
      "needs_background": "light"
     },
     "output_type": "display_data"
    }
   ],
   "source": [
    "plt.plot(austin_df.columns, austin_df.loc[\"Hays\"])\n",
    "plt.plot(austin_df.columns, austin_df.loc[\"Travis\"])\n",
    "plt.plot(austin_df.columns, austin_df.loc[\"Williamson\"])\n",
    "\n",
    "\n",
    "plt.xlabel(\"Year\")\n",
    "plt.ylabel(\"AADT\")\n",
    "plt.title(\"Annual Average Daily Traffic\")\n",
    "plt.grid()\n",
    "plt.legend([\"Hays\",\"Travis\",\"Williamson\"])\n",
    "plt.savefig(\"Traffic_Density/Pictures/AADT_austin_counties.png\")\n",
    "plt.show()"
   ]
  },
  {
   "cell_type": "markdown",
   "metadata": {},
   "source": [
    "##### AADT plot of Travis County and Total of Austin area"
   ]
  },
  {
   "cell_type": "code",
   "execution_count": 20,
   "metadata": {},
   "outputs": [
    {
     "data": {
      "image/png": "[encoded data removed]",
      "text/plain": [
       "<Figure size 432x288 with 1 Axes>"
      ]
     },
     "metadata": {
      "needs_background": "light"
     },
     "output_type": "display_data"
    }
   ],
   "source": [
    "plt.plot(austin_df.columns, austin_df.loc[\"Travis\"])\n",
    "plt.plot(austin_df.columns, austin_df.loc[\"Total\"])\n",
    "\n",
    "\n",
    "plt.xlabel(\"Year\")\n",
    "plt.ylabel(\"AADT\")\n",
    "plt.title(\"Annual Average Daily Traffic\")\n",
    "plt.legend([\"Travis\",\"Total\"])\n",
    "plt.grid()\n",
    "plt.savefig(\"Traffic_Density/Pictures/AADT_travis_total.png\")\n",
    "plt.show()"
   ]
  },
  {
   "cell_type": "code",
   "execution_count": null,
   "metadata": {},
   "outputs": [],
   "source": []
  }
 ],
 "metadata": {
  "kernelspec": {
   "display_name": "project_1",
   "language": "python",
   "name": "project_1"
  },
  "language_info": {
   "codemirror_mode": {
    "name": "ipython",
    "version": 3
   },
   "file_extension": ".py",
   "mimetype": "text/x-python",
   "name": "python",
   "nbconvert_exporter": "python",
   "pygments_lexer": "ipython3",
   "version": "3.7.5"
  }
 },
 "nbformat": 4,
 "nbformat_minor": 4
}
