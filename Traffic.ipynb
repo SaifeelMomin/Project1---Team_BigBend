{
 "cells": [
  {
   "cell_type": "code",
   "execution_count": 2,
   "metadata": {},
   "outputs": [],
   "source": [
    "# Dependencies\n",
    "import matplotlib.pyplot as plt\n",
    "import pandas as pd\n",
    "import numpy as np\n",
    "import requests\n",
    "import json\n",
    "\n"
   ]
  },
  {
   "cell_type": "code",
   "execution_count": null,
   "metadata": {},
   "outputs": [],
   "source": []
  },
  {
   "cell_type": "code",
   "execution_count": 3,
   "metadata": {},
   "outputs": [],
   "source": [
    "url = \"https://services.arcgis.com/KTcxiTD9dsQw4r7Z/arcgis/rest/services/TxDOT_AADT_Annuals/FeatureServer/0/query?where=1%3D1&outFields=*&outSR=4326&f=json\"\n",
    "r = requests.get(url)\n",
    "txdot_data = r.json()"
   ]
  },
  {
   "cell_type": "code",
   "execution_count": 4,
   "metadata": {},
   "outputs": [],
   "source": [
    "clean_txdot_data = txdot_data[\"features\"]"
   ]
  },
  {
   "cell_type": "code",
   "execution_count": 5,
   "metadata": {},
   "outputs": [],
   "source": [
    "count = 0\n",
    "city = []\n",
    "county = []\n",
    "AADT_2013 = []\n",
    "AADT_2014 = []\n",
    "AADT_2015 = []\n",
    "AADT_2016 = []\n",
    "AADT_2017 = []\n",
    "AADT_2018 = []"
   ]
  },
  {
   "cell_type": "code",
   "execution_count": 6,
   "metadata": {},
   "outputs": [],
   "source": [
    "for e in clean_txdot_data:\n",
    "    city.append(clean_txdot_data[count][\"attributes\"][\"DIST_NM\"])\n",
    "    county.append(clean_txdot_data[count][\"attributes\"][\"CNTY_NM\"]) \n",
    "    AADT_2013.append(clean_txdot_data[count][\"attributes\"][\"AADT_2013\"]) \n",
    "    AADT_2014.append(clean_txdot_data[count][\"attributes\"][\"AADT_2014\"]) \n",
    "    AADT_2015.append(clean_txdot_data[count][\"attributes\"][\"AADT_2015\"]) \n",
    "    AADT_2016.append(clean_txdot_data[count][\"attributes\"][\"AADT_2016\"]) \n",
    "    AADT_2017.append(clean_txdot_data[count][\"attributes\"][\"AADT_2017\"]) \n",
    "    AADT_2018.append(clean_txdot_data[count][\"attributes\"][\"AADT_2018\"]) \n",
    "    count += 1 \n"
   ]
  },
  {
   "cell_type": "code",
   "execution_count": 7,
   "metadata": {},
   "outputs": [],
   "source": [
    "tx_dot_df = pd.DataFrame({\"City\": city,\n",
    "                         \"County\": county,\n",
    "                         \"AADT_2013\": AADT_2013,\n",
    "                         \"AADT_2014\": AADT_2014,\n",
    "                         \"AADT_2015\": AADT_2015,\n",
    "                         \"AADT_2016\": AADT_2016,\n",
    "                         \"AADT_2017\": AADT_2017,\n",
    "                         \"AADT_2018\": AADT_2018})"
   ]
  },
  {
   "cell_type": "code",
   "execution_count": 8,
   "metadata": {},
   "outputs": [
    {
     "data": {
      "text/html": [
       "<div>\n",
       "<style scoped>\n",
       "    .dataframe tbody tr th:only-of-type {\n",
       "        vertical-align: middle;\n",
       "    }\n",
       "\n",
       "    .dataframe tbody tr th {\n",
       "        vertical-align: top;\n",
       "    }\n",
       "\n",
       "    .dataframe thead th {\n",
       "        text-align: right;\n",
       "    }\n",
       "</style>\n",
       "<table border=\"1\" class=\"dataframe\">\n",
       "  <thead>\n",
       "    <tr style=\"text-align: right;\">\n",
       "      <th></th>\n",
       "      <th>City</th>\n",
       "      <th>County</th>\n",
       "      <th>AADT_2013</th>\n",
       "      <th>AADT_2014</th>\n",
       "      <th>AADT_2015</th>\n",
       "      <th>AADT_2016</th>\n",
       "      <th>AADT_2017</th>\n",
       "      <th>AADT_2018</th>\n",
       "    </tr>\n",
       "  </thead>\n",
       "  <tbody>\n",
       "    <tr>\n",
       "      <th>0</th>\n",
       "      <td>El Paso</td>\n",
       "      <td>El Paso</td>\n",
       "      <td>0</td>\n",
       "      <td>0</td>\n",
       "      <td>0</td>\n",
       "      <td>0</td>\n",
       "      <td>1473</td>\n",
       "      <td>234</td>\n",
       "    </tr>\n",
       "    <tr>\n",
       "      <th>1</th>\n",
       "      <td>El Paso</td>\n",
       "      <td>El Paso</td>\n",
       "      <td>980</td>\n",
       "      <td>1073</td>\n",
       "      <td>1153</td>\n",
       "      <td>515</td>\n",
       "      <td>399</td>\n",
       "      <td>1097</td>\n",
       "    </tr>\n",
       "    <tr>\n",
       "      <th>2</th>\n",
       "      <td>El Paso</td>\n",
       "      <td>El Paso</td>\n",
       "      <td>0</td>\n",
       "      <td>0</td>\n",
       "      <td>0</td>\n",
       "      <td>0</td>\n",
       "      <td>1450</td>\n",
       "      <td>1603</td>\n",
       "    </tr>\n",
       "    <tr>\n",
       "      <th>3</th>\n",
       "      <td>El Paso</td>\n",
       "      <td>El Paso</td>\n",
       "      <td>0</td>\n",
       "      <td>0</td>\n",
       "      <td>0</td>\n",
       "      <td>0</td>\n",
       "      <td>1092</td>\n",
       "      <td>2365</td>\n",
       "    </tr>\n",
       "    <tr>\n",
       "      <th>4</th>\n",
       "      <td>El Paso</td>\n",
       "      <td>El Paso</td>\n",
       "      <td>393</td>\n",
       "      <td>362</td>\n",
       "      <td>455</td>\n",
       "      <td>439</td>\n",
       "      <td>630</td>\n",
       "      <td>803</td>\n",
       "    </tr>\n",
       "    <tr>\n",
       "      <th>...</th>\n",
       "      <td>...</td>\n",
       "      <td>...</td>\n",
       "      <td>...</td>\n",
       "      <td>...</td>\n",
       "      <td>...</td>\n",
       "      <td>...</td>\n",
       "      <td>...</td>\n",
       "      <td>...</td>\n",
       "    </tr>\n",
       "    <tr>\n",
       "      <th>31467</th>\n",
       "      <td>Atlanta</td>\n",
       "      <td>Bowie</td>\n",
       "      <td>2570</td>\n",
       "      <td>2058</td>\n",
       "      <td>2859</td>\n",
       "      <td>2172</td>\n",
       "      <td>2879</td>\n",
       "      <td>2184</td>\n",
       "    </tr>\n",
       "    <tr>\n",
       "      <th>31468</th>\n",
       "      <td>Atlanta</td>\n",
       "      <td>Bowie</td>\n",
       "      <td>176</td>\n",
       "      <td>133</td>\n",
       "      <td>141</td>\n",
       "      <td>155</td>\n",
       "      <td>155</td>\n",
       "      <td>154</td>\n",
       "    </tr>\n",
       "    <tr>\n",
       "      <th>31469</th>\n",
       "      <td>Atlanta</td>\n",
       "      <td>Bowie</td>\n",
       "      <td>171</td>\n",
       "      <td>142</td>\n",
       "      <td>131</td>\n",
       "      <td>147</td>\n",
       "      <td>162</td>\n",
       "      <td>120</td>\n",
       "    </tr>\n",
       "    <tr>\n",
       "      <th>31470</th>\n",
       "      <td>Atlanta</td>\n",
       "      <td>Bowie</td>\n",
       "      <td>205</td>\n",
       "      <td>115</td>\n",
       "      <td>147</td>\n",
       "      <td>147</td>\n",
       "      <td>147</td>\n",
       "      <td>101</td>\n",
       "    </tr>\n",
       "    <tr>\n",
       "      <th>31471</th>\n",
       "      <td>Atlanta</td>\n",
       "      <td>Bowie</td>\n",
       "      <td>2823</td>\n",
       "      <td>2897</td>\n",
       "      <td>2410</td>\n",
       "      <td>2635</td>\n",
       "      <td>3224</td>\n",
       "      <td>3214</td>\n",
       "    </tr>\n",
       "  </tbody>\n",
       "</table>\n",
       "<p>31472 rows × 8 columns</p>\n",
       "</div>"
      ],
      "text/plain": [
       "          City   County  AADT_2013  AADT_2014  AADT_2015  AADT_2016  \\\n",
       "0      El Paso  El Paso          0          0          0          0   \n",
       "1      El Paso  El Paso        980       1073       1153        515   \n",
       "2      El Paso  El Paso          0          0          0          0   \n",
       "3      El Paso  El Paso          0          0          0          0   \n",
       "4      El Paso  El Paso        393        362        455        439   \n",
       "...        ...      ...        ...        ...        ...        ...   \n",
       "31467  Atlanta    Bowie       2570       2058       2859       2172   \n",
       "31468  Atlanta    Bowie        176        133        141        155   \n",
       "31469  Atlanta    Bowie        171        142        131        147   \n",
       "31470  Atlanta    Bowie        205        115        147        147   \n",
       "31471  Atlanta    Bowie       2823       2897       2410       2635   \n",
       "\n",
       "       AADT_2017  AADT_2018  \n",
       "0           1473        234  \n",
       "1            399       1097  \n",
       "2           1450       1603  \n",
       "3           1092       2365  \n",
       "4            630        803  \n",
       "...          ...        ...  \n",
       "31467       2879       2184  \n",
       "31468        155        154  \n",
       "31469        162        120  \n",
       "31470        147        101  \n",
       "31471       3224       3214  \n",
       "\n",
       "[31472 rows x 8 columns]"
      ]
     },
     "execution_count": 8,
     "metadata": {},
     "output_type": "execute_result"
    }
   ],
   "source": [
    "tx_dot_df"
   ]
  },
  {
   "cell_type": "code",
   "execution_count": 9,
   "metadata": {},
   "outputs": [
    {
     "data": {
      "text/html": [
       "<div>\n",
       "<style scoped>\n",
       "    .dataframe tbody tr th:only-of-type {\n",
       "        vertical-align: middle;\n",
       "    }\n",
       "\n",
       "    .dataframe tbody tr th {\n",
       "        vertical-align: top;\n",
       "    }\n",
       "\n",
       "    .dataframe thead th {\n",
       "        text-align: right;\n",
       "    }\n",
       "</style>\n",
       "<table border=\"1\" class=\"dataframe\">\n",
       "  <thead>\n",
       "    <tr style=\"text-align: right;\">\n",
       "      <th></th>\n",
       "      <th>County</th>\n",
       "      <th>AADT_2013</th>\n",
       "      <th>AADT_2014</th>\n",
       "      <th>AADT_2015</th>\n",
       "      <th>AADT_2016</th>\n",
       "      <th>AADT_2017</th>\n",
       "      <th>AADT_2018</th>\n",
       "    </tr>\n",
       "  </thead>\n",
       "  <tbody>\n",
       "    <tr>\n",
       "      <th>0</th>\n",
       "      <td>Bastrop</td>\n",
       "      <td>1253562</td>\n",
       "      <td>1261303</td>\n",
       "      <td>1359191</td>\n",
       "      <td>1402443</td>\n",
       "      <td>1383032</td>\n",
       "      <td>1523780</td>\n",
       "    </tr>\n",
       "    <tr>\n",
       "      <th>1</th>\n",
       "      <td>Blanco</td>\n",
       "      <td>230964</td>\n",
       "      <td>222117</td>\n",
       "      <td>294814</td>\n",
       "      <td>251890</td>\n",
       "      <td>256315</td>\n",
       "      <td>275459</td>\n",
       "    </tr>\n",
       "    <tr>\n",
       "      <th>2</th>\n",
       "      <td>Burnet</td>\n",
       "      <td>593386</td>\n",
       "      <td>562338</td>\n",
       "      <td>622879</td>\n",
       "      <td>653060</td>\n",
       "      <td>631378</td>\n",
       "      <td>730347</td>\n",
       "    </tr>\n",
       "    <tr>\n",
       "      <th>3</th>\n",
       "      <td>Caldwell</td>\n",
       "      <td>554353</td>\n",
       "      <td>493104</td>\n",
       "      <td>528521</td>\n",
       "      <td>558772</td>\n",
       "      <td>674054</td>\n",
       "      <td>711293</td>\n",
       "    </tr>\n",
       "    <tr>\n",
       "      <th>4</th>\n",
       "      <td>Gillespie</td>\n",
       "      <td>303319</td>\n",
       "      <td>289665</td>\n",
       "      <td>377365</td>\n",
       "      <td>327191</td>\n",
       "      <td>359710</td>\n",
       "      <td>346208</td>\n",
       "    </tr>\n",
       "    <tr>\n",
       "      <th>5</th>\n",
       "      <td>Hays</td>\n",
       "      <td>2322812</td>\n",
       "      <td>2354095</td>\n",
       "      <td>2565262</td>\n",
       "      <td>2707284</td>\n",
       "      <td>2659963</td>\n",
       "      <td>2834725</td>\n",
       "    </tr>\n",
       "    <tr>\n",
       "      <th>6</th>\n",
       "      <td>Lee</td>\n",
       "      <td>351117</td>\n",
       "      <td>359399</td>\n",
       "      <td>374507</td>\n",
       "      <td>336099</td>\n",
       "      <td>349228</td>\n",
       "      <td>375877</td>\n",
       "    </tr>\n",
       "    <tr>\n",
       "      <th>7</th>\n",
       "      <td>Llano</td>\n",
       "      <td>261786</td>\n",
       "      <td>243522</td>\n",
       "      <td>297515</td>\n",
       "      <td>291416</td>\n",
       "      <td>275050</td>\n",
       "      <td>293366</td>\n",
       "    </tr>\n",
       "    <tr>\n",
       "      <th>8</th>\n",
       "      <td>Mason</td>\n",
       "      <td>74485</td>\n",
       "      <td>74853</td>\n",
       "      <td>84874</td>\n",
       "      <td>77223</td>\n",
       "      <td>72075</td>\n",
       "      <td>79011</td>\n",
       "    </tr>\n",
       "    <tr>\n",
       "      <th>9</th>\n",
       "      <td>Travis</td>\n",
       "      <td>13276981</td>\n",
       "      <td>12900946</td>\n",
       "      <td>14420060</td>\n",
       "      <td>14950796</td>\n",
       "      <td>15266997</td>\n",
       "      <td>16388126</td>\n",
       "    </tr>\n",
       "    <tr>\n",
       "      <th>10</th>\n",
       "      <td>Williamson</td>\n",
       "      <td>4919928</td>\n",
       "      <td>5074504</td>\n",
       "      <td>5074217</td>\n",
       "      <td>5466111</td>\n",
       "      <td>6230758</td>\n",
       "      <td>6809710</td>\n",
       "    </tr>\n",
       "  </tbody>\n",
       "</table>\n",
       "</div>"
      ],
      "text/plain": [
       "        County  AADT_2013  AADT_2014  AADT_2015  AADT_2016  AADT_2017  \\\n",
       "0      Bastrop    1253562    1261303    1359191    1402443    1383032   \n",
       "1       Blanco     230964     222117     294814     251890     256315   \n",
       "2       Burnet     593386     562338     622879     653060     631378   \n",
       "3     Caldwell     554353     493104     528521     558772     674054   \n",
       "4    Gillespie     303319     289665     377365     327191     359710   \n",
       "5         Hays    2322812    2354095    2565262    2707284    2659963   \n",
       "6          Lee     351117     359399     374507     336099     349228   \n",
       "7        Llano     261786     243522     297515     291416     275050   \n",
       "8        Mason      74485      74853      84874      77223      72075   \n",
       "9       Travis   13276981   12900946   14420060   14950796   15266997   \n",
       "10  Williamson    4919928    5074504    5074217    5466111    6230758   \n",
       "\n",
       "    AADT_2018  \n",
       "0     1523780  \n",
       "1      275459  \n",
       "2      730347  \n",
       "3      711293  \n",
       "4      346208  \n",
       "5     2834725  \n",
       "6      375877  \n",
       "7      293366  \n",
       "8       79011  \n",
       "9    16388126  \n",
       "10    6809710  "
      ]
     },
     "execution_count": 9,
     "metadata": {},
     "output_type": "execute_result"
    }
   ],
   "source": [
    "greater_austin_df = tx_dot_df.loc[tx_dot_df[\"City\"] == \"Austin\"].groupby(\"County\").sum().reset_index()\n",
    "greater_austin_df"
   ]
  },
  {
   "cell_type": "code",
   "execution_count": 10,
   "metadata": {},
   "outputs": [],
   "source": [
    "austin_df = greater_austin_df.loc[greater_austin_df[\"County\"].isin([\"Hays\",\"Travis\",\"Williamson\"])].set_index(\"County\")\n",
    "austin_df.loc['Total']= austin_df.sum(numeric_only=True, axis=0)\n"
   ]
  },
  {
   "cell_type": "code",
   "execution_count": 11,
   "metadata": {},
   "outputs": [
    {
     "data": {
      "text/html": [
       "<div>\n",
       "<style scoped>\n",
       "    .dataframe tbody tr th:only-of-type {\n",
       "        vertical-align: middle;\n",
       "    }\n",
       "\n",
       "    .dataframe tbody tr th {\n",
       "        vertical-align: top;\n",
       "    }\n",
       "\n",
       "    .dataframe thead th {\n",
       "        text-align: right;\n",
       "    }\n",
       "</style>\n",
       "<table border=\"1\" class=\"dataframe\">\n",
       "  <thead>\n",
       "    <tr style=\"text-align: right;\">\n",
       "      <th></th>\n",
       "      <th>AADT_2013</th>\n",
       "      <th>AADT_2014</th>\n",
       "      <th>AADT_2015</th>\n",
       "      <th>AADT_2016</th>\n",
       "      <th>AADT_2017</th>\n",
       "      <th>AADT_2018</th>\n",
       "    </tr>\n",
       "    <tr>\n",
       "      <th>County</th>\n",
       "      <th></th>\n",
       "      <th></th>\n",
       "      <th></th>\n",
       "      <th></th>\n",
       "      <th></th>\n",
       "      <th></th>\n",
       "    </tr>\n",
       "  </thead>\n",
       "  <tbody>\n",
       "    <tr>\n",
       "      <th>Hays</th>\n",
       "      <td>2322812</td>\n",
       "      <td>2354095</td>\n",
       "      <td>2565262</td>\n",
       "      <td>2707284</td>\n",
       "      <td>2659963</td>\n",
       "      <td>2834725</td>\n",
       "    </tr>\n",
       "    <tr>\n",
       "      <th>Travis</th>\n",
       "      <td>13276981</td>\n",
       "      <td>12900946</td>\n",
       "      <td>14420060</td>\n",
       "      <td>14950796</td>\n",
       "      <td>15266997</td>\n",
       "      <td>16388126</td>\n",
       "    </tr>\n",
       "    <tr>\n",
       "      <th>Williamson</th>\n",
       "      <td>4919928</td>\n",
       "      <td>5074504</td>\n",
       "      <td>5074217</td>\n",
       "      <td>5466111</td>\n",
       "      <td>6230758</td>\n",
       "      <td>6809710</td>\n",
       "    </tr>\n",
       "    <tr>\n",
       "      <th>Total</th>\n",
       "      <td>20519721</td>\n",
       "      <td>20329545</td>\n",
       "      <td>22059539</td>\n",
       "      <td>23124191</td>\n",
       "      <td>24157718</td>\n",
       "      <td>26032561</td>\n",
       "    </tr>\n",
       "  </tbody>\n",
       "</table>\n",
       "</div>"
      ],
      "text/plain": [
       "            AADT_2013  AADT_2014  AADT_2015  AADT_2016  AADT_2017  AADT_2018\n",
       "County                                                                      \n",
       "Hays          2322812    2354095    2565262    2707284    2659963    2834725\n",
       "Travis       13276981   12900946   14420060   14950796   15266997   16388126\n",
       "Williamson    4919928    5074504    5074217    5466111    6230758    6809710\n",
       "Total        20519721   20329545   22059539   23124191   24157718   26032561"
      ]
     },
     "execution_count": 11,
     "metadata": {},
     "output_type": "execute_result"
    }
   ],
   "source": [
    "austin_df"
   ]
  },
  {
   "cell_type": "code",
   "execution_count": 18,
   "metadata": {},
   "outputs": [
    {
     "data": {
      "text/plain": [
       "Text(0, 0.5, 'Traffic Trips')"
      ]
     },
     "execution_count": 18,
     "metadata": {},
     "output_type": "execute_result"
    },
    {
     "data": {
      "image/png": "[encoded data removed]",
      "text/plain": [
       "<Figure size 432x288 with 1 Axes>"
      ]
     },
     "metadata": {
      "needs_background": "light"
     },
     "output_type": "display_data"
    }
   ],
   "source": [
    "plt.plot(austin_df.columns, austin_df.loc[\"Hays\"])\n",
    "plt.plot(austin_df.columns, austin_df.loc[\"Travis\"])\n",
    "plt.plot(austin_df.columns, austin_df.loc[\"Williamson\"])\n",
    "\n",
    "\n",
    "\n",
    "plt.xlabel(\"County\")\n",
    "plt.ylabel(\"Traffic Trips\")\n",
    "\n"
   ]
  },
  {
   "cell_type": "code",
   "execution_count": 13,
   "metadata": {},
   "outputs": [
    {
     "data": {
      "text/plain": [
       "[<matplotlib.lines.Line2D at 0x1eb542c54c8>]"
      ]
     },
     "execution_count": 13,
     "metadata": {},
     "output_type": "execute_result"
    },
    {
     "data": {
      "image/png": "[encoded data removed]",
      "text/plain": [
       "<Figure size 432x288 with 1 Axes>"
      ]
     },
     "metadata": {
      "needs_background": "light"
     },
     "output_type": "display_data"
    }
   ],
   "source": [
    "plt.plot(austin_df.columns, austin_df.loc[\"Travis\"])\n"
   ]
  },
  {
   "cell_type": "code",
   "execution_count": 14,
   "metadata": {},
   "outputs": [
    {
     "data": {
      "text/plain": [
       "[<matplotlib.lines.Line2D at 0x1eb5432d8c8>]"
      ]
     },
     "execution_count": 14,
     "metadata": {},
     "output_type": "execute_result"
    },
    {
     "data": {
      "image/png": "[encoded data removed]",
      "text/plain": [
       "<Figure size 432x288 with 1 Axes>"
      ]
     },
     "metadata": {
      "needs_background": "light"
     },
     "output_type": "display_data"
    }
   ],
   "source": [
    "plt.plot(austin_df.columns, austin_df.loc[\"Total\"])"
   ]
  },
  {
   "cell_type": "code",
   "execution_count": null,
   "metadata": {},
   "outputs": [],
   "source": []
  }
 ],
 "metadata": {
  "kernelspec": {
   "display_name": "project_1",
   "language": "python",
   "name": "project_1"
  },
  "language_info": {
   "codemirror_mode": {
    "name": "ipython",
    "version": 3
   },
   "file_extension": ".py",
   "mimetype": "text/x-python",
   "name": "python",
   "nbconvert_exporter": "python",
   "pygments_lexer": "ipython3",
   "version": "3.7.5"
  }
 },
 "nbformat": 4,
 "nbformat_minor": 4
}
