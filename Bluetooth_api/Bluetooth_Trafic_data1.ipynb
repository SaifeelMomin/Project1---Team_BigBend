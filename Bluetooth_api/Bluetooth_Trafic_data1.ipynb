{
 "cells": [
  {
   "cell_type": "code",
   "execution_count": 1,
   "metadata": {},
   "outputs": [],
   "source": [
    "import requests\n",
    "import json\n",
    "import pandas as pd\n",
    "import matplotlib as plt\n",
    "key = 'MD9WC-r9IQ61zOa3fuqKSbw4TT94t4-pMjUC'"
   ]
  },
  {
   "cell_type": "code",
   "execution_count": 2,
   "metadata": {},
   "outputs": [],
   "source": [
    "def r_get(road):\n",
    "    url =  f\"https://data.austintexas.gov/resource/x44q-icha.json?$where=origin_reader_identifier like '%{road}%'\"\n",
    "    r = requests.get(url, params = {\"$limit\":5000000})\n",
    "    if r.status_code == 200:\n",
    "        r_data = (r.json())\n",
    "    else:\n",
    "        print(r.status_code) \n",
    "    r_df = pd.DataFrame(r_data)\n",
    "    return r_df"
   ]
  },
  {
   "cell_type": "code",
   "execution_count": 1,
   "metadata": {},
   "outputs": [],
   "source": [
    "## Major highways to be looked at\n",
    "## 183, 35, loop1, lamar, 360, 71, burnet, 2222, 290, airport\n",
    "df_183 = r_get(183).to_csv(\"Bluetooth_api/df_183.csv\")\n",
    "df_35 = r_get(35).to_csv(\"Bluetooth_api/df_35.csv\")\n",
    "df_loop1 = r_get('loop1').to_csv(\"Bluetooth_api/df_loop1.csv\")\n",
    "df_lamar = r_get('lamar').to_csv(\"Bluetooth_api/df_lamar.csv\")\n",
    "df_360 = r_get(360).to_csv(\"Bluetooth_api/df_360.csv\")\n",
    "df_71 = r_get(71).to_csv(\"Bluetooth_api/df_71.csv\")\n",
    "df_burnet = r_get('burnet').to_csv(\"Bluetooth_api/df_burnet.csv\")\n",
    "df_2222 = r_get(2222).to_csv(\"Bluetooth_api/df_2222.csv\")\n",
    "df_290 = r_get(290).to_csv(\"Bluetooth_api/df_290.csv\")\n",
    "df_airport = r_get('airport').to_csv(\"Bluetooth_api/df_airport.csv\")"
   ]
  },
  {
   "cell_type": "code",
   "execution_count": 7,
   "metadata": {},
   "outputs": [],
   "source": [
    "def r_data(road):\n",
    "    traffic_raw = []\n",
    "    off_count = 0\n",
    "    url =  f\"https://data.austintexas.gov/resource/x44q-icha.json?$where=origin_reader_identifier like '%{road}%'\"\n",
    "    r = requests.get(url, params = {\"$limit\":50000, '$offset':off_count})\n",
    "    if r.status_code == 200:\n",
    "        traffic_raw.append(r.json())\n",
    "        print(f'Getting results {off_count} to {off_count + 50000}')\n",
    "    else:\n",
    "        print(r.status_code)\n",
    "    while len(r.json()) > 10: \n",
    "        off_count += 50000\n",
    "        r = requests.get(url, params = {\"$limit\":50000, '$offset':off_count})\n",
    "        traffic_raw.extend(r.json())\n",
    "        print(f'Getting results {off_count} to {off_count + 50000}')        \n",
    "    return traffic_raw\n",
    "#     raw_df = pd.DataFrame(traffic_raw)\n",
    "#     return raw_df"
   ]
  }
 ],
 "metadata": {
  "kernelspec": {
   "display_name": "Project1_API",
   "language": "python",
   "name": "project1_api"
  },
  "language_info": {
   "codemirror_mode": {
    "name": "ipython",
    "version": 3
   },
   "file_extension": ".py",
   "mimetype": "text/x-python",
   "name": "python",
   "nbconvert_exporter": "python",
   "pygments_lexer": "ipython3",
   "version": "3.8.0"
  }
 },
 "nbformat": 4,
 "nbformat_minor": 4
}
