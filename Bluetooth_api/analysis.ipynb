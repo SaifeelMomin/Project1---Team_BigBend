{
 "cells": [
  {
   "cell_type": "code",
   "execution_count": 2,
   "metadata": {},
   "outputs": [],
   "source": [
    "import requests\n",
    "import numpy as np\n",
    "import json\n",
    "import pandas as pd\n",
    "from matplotlib import pyplot as plt\n",
    "import os\n",
    "import plotly.graph_objects as go\n",
    "from ipywidgets import widgets\n",
    "import plotly.express as px\n",
    "key = 'MD9WC-r9IQ61zOa3fuqKSbw4TT94t4-pMjUC'\n",
    "## Note: Traffic counts taken in June, July and August can be \n",
    "## lower than average due to local school and University closures."
   ]
  },
  {
   "cell_type": "code",
   "execution_count": 21,
   "metadata": {},
   "outputs": [],
   "source": [
    "def load_clean(path):\n",
    "    df = pd.read_csv(path)\n",
    "    df['start_time'] = pd.to_datetime(df['start_time'], utc=True)\n",
    "    return df\n",
    "\n",
    "def load_clean_all(csv_paths):\n",
    "    return {path.strip(\".csv\"): load_clean(path) for path in csv_paths}\n",
    "\n",
    "def time_sorter(dfs_dict):\n",
    "    df_hourly = pd.DataFrame()   \n",
    "    for k in dfs_dict:\n",
    "        v = dfs_dict[k]\n",
    "        x = v.groupby(v['start_time'].dt.hour)['record_id'].count()\n",
    "        df_hourly[f'{k}'] = x\n",
    "    return df_hourly\n",
    "\n",
    "def time_day_sort(dfs_dict):\n",
    "    df_td = pd.DataFrame()   \n",
    "    for k in dfs_dict:\n",
    "        v = dfs_dict[k]\n",
    "        x = v.groupby([v['day_of_week'],v['start_time'].dt.hour])['record_id'].count()\n",
    "        df_td[f'{k}'] = x\n",
    "    return df_td\n",
    "\n",
    "def traffic_percent(df):\n",
    "    z = df\n",
    "    z1 = df.sum()\n",
    "    day_dict = {'Friday':z1[0], 'Monday':z1[1], 'Saturday':z1[2], 'Sunday':z1[3], 'Thursday':z1[4], 'Tuesday':z1[5],\n",
    "            'Wednesday':z1[6]}\n",
    "    for col in df:\n",
    "        total = day_dict[col]\n",
    "        z[col] = round(z[col]/total*100, 2)\n",
    "    return z\n",
    "\n",
    "def time_day_sort_pct(dfs_dict):\n",
    "    df_td = pd.DataFrame([i for i in range(0,24)])  \n",
    "    for k in dfs_dict:\n",
    "        df_name = f'{k}'\n",
    "        v = dfs_dict[k]\n",
    "        x = pd.DataFrame(v.groupby([v['day_of_week'],v['start_time'].dt.hour])['record_id'].count()).unstack(level = 0).droplevel(axis=1, level=0)\n",
    "        x1 = traffic_percent(x)\n",
    "        df_td = df_td.merge(x1, how = \"outer\", right_on = x1.index, left_on = df_td.index)\n",
    "        df_td = df_td.drop(columns = 'key_0')\n",
    "    return df_td\n",
    "\n",
    "def col_namer(df):\n",
    "    names = [\"0\"]\n",
    "    roads = ['183','35', 'lamar', 'burnet','2222' ]\n",
    "    dow = ['Friday', 'Monday', 'Saturday', 'Sunday', 'Thursday', 'Tuesday', 'Wednesday']\n",
    "    start = 1\n",
    "    a = list(df)[start:start+7]\n",
    "    for road in roads:\n",
    "        b = [ f'{road}_' + i for i in dow]\n",
    "        names.extend(b)\n",
    "    return names"
   ]
  },
  {
   "cell_type": "markdown",
   "metadata": {},
   "source": [
    "### Loading dfs for 2017, 2018, and 2019, cleaning and converting counts to percentages "
   ]
  },
  {
   "cell_type": "code",
   "execution_count": 24,
   "metadata": {
    "scrolled": true
   },
   "outputs": [
    {
     "name": "stderr",
     "output_type": "stream",
     "text": [
      "<ipython-input-24-acb7073171dc>:6: DtypeWarning:\n",
      "\n",
      "Columns (2) have mixed types. Specify dtype option on import or set low_memory=False.\n",
      "\n"
     ]
    }
   ],
   "source": [
    "csv_paths = [file for file in os.listdir() if file.endswith(\"csv\")]\n",
    "csv_paths17 = [\"df183_17.csv\", \"df35_17.csv\", 'dflamar_17.csv', 'dfburnet_17.csv', 'df2222_17.csv']\n",
    "csv_paths18 = [\"df183_18.csv\", \"df35_18.csv\", 'dflamar_18.csv', 'dfburnet_18.csv', 'df2222_18.csv']\n",
    "csv_paths19 = ['df35_19.csv', 'df183_19.csv', 'dflamar_19.csv', 'dfburnet_19.csv', 'df2222_19.csv']\n",
    "\n",
    "dfs17 = load_clean_all(csv_paths17)\n",
    "dfs18 = load_clean_all(csv_paths18)\n",
    "dfs19 = load_clean_all(csv_paths19)\n",
    "\n",
    "df17 = time_day_sort_pct(dfs17)\n",
    "df18 = time_day_sort_pct(dfs18)\n",
    "df19 = time_day_sort_pct(dfs19)\n",
    "\n",
    "cols17 = col_namer(df17)\n",
    "cols18 = col_namer(df18)\n",
    "cols19 = col_namer(df19)\n",
    "\n",
    "df17.columns = cols17\n",
    "df18.columns = cols18\n",
    "df19.columns = cols19\n",
    "\n",
    "df17.to_csv(\"extra/df17.csv\")\n",
    "df18.to_csv(\"extra/df18.csv\")\n",
    "df19.to_csv(\"extra/df19.csv\")\n"
   ]
  },
  {
   "cell_type": "markdown",
   "metadata": {},
   "source": [
    "### Loading and converting traffic incident data for plotting"
   ]
  },
  {
   "cell_type": "code",
   "execution_count": 12,
   "metadata": {},
   "outputs": [],
   "source": [
    "incident_df = pd.read_csv(\"traffic_incidents.csv\")\n",
    "incident_df['time'] = pd.to_datetime(incident_df['traffic_report_status_date_time'])\n",
    "incident_df['year'] = incident_df['time'].dt.year\n",
    "incident_df['day'] = incident_df['time'].dt.dayofweek\n",
    "incident_df['hour'] = incident_df['time'].dt.hour"
   ]
  },
  {
   "cell_type": "code",
   "execution_count": 221,
   "metadata": {},
   "outputs": [],
   "source": [
    "dow_dict = {0:\"Monday\", 1:\"Tuesday\", 2:\"Wednesday\", 3:\"Thursday\", 4:\"Friday\", 5:\"Saturday\", 6:\"Sunday\"}\n",
    "dow_int = incident_df['day']\n",
    "dow = [dow_dict[row] for row in dow_int]\n",
    "incident_df['day_of_week'] = dow\n",
    "dfi_hour_day = pd.DataFrame(incident_df.groupby([incident_df['day_of_week'],incident_df['hour']])['traffic_report_id'].count()).unstack(level = 0).droplevel(axis = 1, level = 0)\n",
    "dfi_percent = incident_percent(dfi_hour_day)\n",
    "dfi_percent.to_csv(\"dfi_percent.csv\")\n"
   ]
  }
 ],
 "metadata": {
  "kernelspec": {
   "display_name": "Project1_API",
   "language": "python",
   "name": "project1_api"
  },
  "language_info": {
   "codemirror_mode": {
    "name": "ipython",
    "version": 3
   },
   "file_extension": ".py",
   "mimetype": "text/x-python",
   "name": "python",
   "nbconvert_exporter": "python",
   "pygments_lexer": "ipython3",
   "version": "3.8.0"
  }
 },
 "nbformat": 4,
 "nbformat_minor": 4
}
