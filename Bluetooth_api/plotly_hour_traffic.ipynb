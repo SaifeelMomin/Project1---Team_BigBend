{
 "cells": [
  {
   "cell_type": "code",
   "execution_count": 17,
   "metadata": {},
   "outputs": [
    {
     "data": {
      "text/html": [
       "<script>\n",
       "code_show=true; \n",
       "function code_toggle() {\n",
       " if (code_show){\n",
       " $('div.input').hide();\n",
       " } else {\n",
       " $('div.input').show();\n",
       " }\n",
       " code_show = !code_show\n",
       "} \n",
       "$( document ).ready(code_toggle);\n",
       "</script>\n",
       "The raw code for this IPython notebook is by default hidden for easier reading.\n",
       "To toggle on/off the raw code, click <a href=\"javascript:code_toggle()\">here</a>."
      ],
      "text/plain": [
       "<IPython.core.display.HTML object>"
      ]
     },
     "execution_count": 17,
     "metadata": {},
     "output_type": "execute_result"
    }
   ],
   "source": [
    "HTML('''<script>\n",
    "code_show=true; \n",
    "function code_toggle() {\n",
    " if (code_show){\n",
    " $('div.input').hide();\n",
    " } else {\n",
    " $('div.input').show();\n",
    " }\n",
    " code_show = !code_show\n",
    "} \n",
    "$( document ).ready(code_toggle);\n",
    "</script>\n",
    "The raw code for this IPython notebook is by default hidden for easier reading.\n",
    "To toggle on/off the raw code, click <a href=\"javascript:code_toggle()\">here</a>.''')"
   ]
  },
  {
   "cell_type": "code",
   "execution_count": 14,
   "metadata": {},
   "outputs": [],
   "source": [
    "import requests\n",
    "import json\n",
    "import pandas as pd\n",
    "from matplotlib import pyplot as plt\n",
    "import os\n",
    "import plotly.graph_objects as go\n",
    "from ipywidgets import widgets\n",
    "import plotly.express as px\n",
    "from IPython.display import display\n",
    "from IPython.display import HTML\n",
    "## run 'jupyter nbextension enable --py widgetsnbextension' in pipenv shell to enable widgets "
   ]
  },
  {
   "cell_type": "code",
   "execution_count": 2,
   "metadata": {},
   "outputs": [],
   "source": [
    "df17 = pd.read_csv(\"extra/df17.csv\")\n",
    "df18 = pd.read_csv(\"extra/df18.csv\")\n",
    "df19 = pd.read_csv(\"extra/df19.csv\")\n"
   ]
  },
  {
   "cell_type": "code",
   "execution_count": 3,
   "metadata": {},
   "outputs": [],
   "source": [
    "days = ['Monday','Tuesday','Wednesday','Thursday','Friday','Saturday','Sunday']\n",
    "opts = {'IH-35':'35', 'US 183':'183','Lamar':'lamar', 'Burnet':\"burnet\", \"RM2222\":\"2222\"}"
   ]
  },
  {
   "cell_type": "code",
   "execution_count": 16,
   "metadata": {
    "scrolled": false
   },
   "outputs": [
    {
     "data": {
      "application/vnd.jupyter.widget-view+json": {
       "model_id": "80963e62e20a4d9b8e8261c8d58ac201",
       "version_major": 2,
       "version_minor": 0
      },
      "text/plain": [
       "VBox(children=(HBox(children=(Dropdown(description='Major Road/Highway', options={'IH-35': '35', 'US 183': '18…"
      ]
     },
     "metadata": {},
     "output_type": "display_data"
    }
   ],
   "source": [
    "origin = widgets.Dropdown(options =  \n",
    "            opts,\n",
    "            description = 'Major Road/Highway',\n",
    "            disabled = False)\n",
    "day = widgets.SelectionSlider(options = days,\n",
    "                       value = 'Monday',\n",
    "                       desciption = 'Day of Week',\n",
    "                       continuous_update = True, \n",
    "                       orientation = 'horizontal',\n",
    "                       readout = True)\n",
    "\n",
    "trace17 = go.Line(x = df17.index, y = df17['35_Monday'], name = '2017 Traffic')\n",
    "trace18 = go.Line(x = df18.index, y = df18['35_Monday'], name = '2018 Traffic')\n",
    "trace19 = go.Line(x = df19.index, y = df19['35_Monday'], name = '2019 Traffic')\n",
    "\n",
    "g = go.FigureWidget(data = (trace17, trace18, trace19),layout = go.Layout({'title' :'Daily Traffic (%) by Hour',\n",
    "                                                                           'yaxis':{'fixedrange':True,\n",
    "                                                                                   'title_text':'Percent of Total Cars per Day'},\n",
    "                                                                          \"xaxis\": {\"tickmode\":'linear',\n",
    "                                                                                   \"dtick\":1,\n",
    "                                                                                   'title_text':'Hour of Day (24:00)'}}))\n",
    "\n",
    "def response(change):\n",
    "    temp_df17 = df17[(f'{origin.value}_{day.value}')]\n",
    "    temp_df18 = df18[(f'{origin.value}_{day.value}')]\n",
    "    temp_df19 = df19[(f'{origin.value}_{day.value}')]\n",
    "    with g.batch_update():\n",
    "        g.data[0].y = temp_df17\n",
    "        g.data[1].y = temp_df18\n",
    "        g.data[2].y = temp_df19\n",
    "        g.update\n",
    "\n",
    "origin.observe(response, names = 'value')\n",
    "day.observe(response, names = 'value')\n",
    "container = widgets.HBox([origin, day])\n",
    "widgets.VBox([container, g])\n"
   ]
  },
  {
   "cell_type": "code",
   "execution_count": null,
   "metadata": {},
   "outputs": [],
   "source": []
  }
 ],
 "metadata": {
  "celltoolbar": "Tags",
  "kernelspec": {
   "display_name": "Project1_API",
   "language": "python",
   "name": "project1_api"
  },
  "language_info": {
   "codemirror_mode": {
    "name": "ipython",
    "version": 3
   },
   "file_extension": ".py",
   "mimetype": "text/x-python",
   "name": "python",
   "nbconvert_exporter": "python",
   "pygments_lexer": "ipython3",
   "version": "3.8.0"
  }
 },
 "nbformat": 4,
 "nbformat_minor": 4
}
