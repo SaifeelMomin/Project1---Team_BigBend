{
 "cells": [
  {
   "cell_type": "code",
   "execution_count": 2,
   "metadata": {},
   "outputs": [],
   "source": [
    "import requests\n",
    "import json\n",
    "import pandas as pd\n",
    "import matplotlib as plt\n",
    "key = 'MD9WC-r9IQ61zOa3fuqKSbw4TT94t4-pMjUC'\n"
   ]
  },
  {
   "cell_type": "code",
   "execution_count": 3,
   "metadata": {},
   "outputs": [],
   "source": [
    "def r_get(road, year):\n",
    "    url =  f\"https://data.austintexas.gov/resource/x44q-icha.json?\"\n",
    "    r = requests.get(url, params = {\"$limit\":4000000,\n",
    "                                    \"$where\": f\"starts_with(start_time, '{year}') AND origin_reader_identifier like '%{road}%'\"})\n",
    "    if r.status_code == 200:\n",
    "        r_data = (r.json())\n",
    "    else:\n",
    "        print(r.status_code) \n",
    "    r_df = pd.DataFrame(r_data)\n",
    "    r_df = load_clean(r_df)\n",
    "    return r_df\n",
    "\n",
    "def r_data(road):\n",
    "    traffic_raw = []\n",
    "    off_count = 0\n",
    "    url =  f\"https://data.austintexas.gov/resource/x44q-icha.json?$where=origin_reader_identifier like '%{road}%'\"\n",
    "    r = requests.get(url, params = {\"$limit\":200, '$offset':off_count})\n",
    "    if r.status_code == 200:\n",
    "        traffic_raw.append(r.json())\n",
    "        print(f'Getting results {off_count} to {off_count + 50000}')\n",
    "    else:\n",
    "        print(r.status_code)\n",
    "    while len(r.json()) > 10: \n",
    "        off_count += 50000\n",
    "        r = requests.get(url, params = {\"$limit\":50000, '$offset':off_count})\n",
    "        traffic_raw.extend(r.json())\n",
    "        print(f'Getting results {off_count} to {off_count + 50000}')        \n",
    "    return traffic_raw\n",
    "\n",
    "def load_clean(df):\n",
    "    df['start_time'] = pd.to_datetime(df['start_time'], utc=True)\n",
    "    df['start_time_year'] = df['start_time'].dt.year\n",
    "    df['month'] = df['start_time'].dt.month\n",
    "    df['date'] = df['start_time'].dt.date\n",
    "    return df\n"
   ]
  },
  {
   "cell_type": "markdown",
   "metadata": {},
   "source": [
    "### Dataframes for IH-35"
   ]
  },
  {
   "cell_type": "code",
   "execution_count": 169,
   "metadata": {},
   "outputs": [],
   "source": [
    "df35_19 = r_get(35, 2019)\n",
    "df35_19.to_csv(\"df35_19.csv\")\n",
    "df35_18 = r_get(35, 2018)\n",
    "df35_18.to_csv(\"df35_18.csv\")\n",
    "df35_17 = r_get(35, 2017)\n",
    "df35_17.to_csv(\"df35_17.csv\")\n"
   ]
  },
  {
   "cell_type": "markdown",
   "metadata": {},
   "source": [
    "### Dataframes for US183"
   ]
  },
  {
   "cell_type": "code",
   "execution_count": 170,
   "metadata": {},
   "outputs": [],
   "source": [
    "df183_19 = r_get(183, 2019)\n",
    "df183_19.to_csv(\"df183_19.csv\")\n",
    "df183_18 = r_get(183, 2018)\n",
    "df183_18.to_csv(\"df183_18.csv\")\n",
    "df183_17 = r_get(183, 2017)\n",
    "df183_17.to_csv(\"df183_17.csv\")\n"
   ]
  },
  {
   "cell_type": "markdown",
   "metadata": {},
   "source": [
    "### Dataframe for Lamar"
   ]
  },
  {
   "cell_type": "code",
   "execution_count": 7,
   "metadata": {},
   "outputs": [],
   "source": [
    "dflamar_19 = r_get('lamar', 2019)\n",
    "dflamar_19.to_csv(\"dflamar_19.csv\")\n",
    "dflamar_18 = r_get('lamar', 2018)\n",
    "dflamar_18.to_csv(\"dflamar_18.csv\")\n",
    "dflamar_17 = r_get('lamar', 2017)\n",
    "dflamar_17.to_csv(\"dflamar_17.csv\")\n"
   ]
  },
  {
   "cell_type": "markdown",
   "metadata": {},
   "source": [
    "### Dataframe for Burnet"
   ]
  },
  {
   "cell_type": "code",
   "execution_count": 10,
   "metadata": {},
   "outputs": [],
   "source": [
    "dfburnet_19 = r_get('burnet', 2019)\n",
    "dfburnet_19.to_csv(\"dflamar_19.csv\")\n",
    "dfburnet_18 = r_get('burnet', 2018)\n",
    "dfburnet_18.to_csv(\"dfburnet_18.csv\")\n",
    "dfburnet_17 = r_get('burnet', 2017)\n",
    "dfburnet_17.to_csv(\"dfburnet_17.csv\")\n"
   ]
  },
  {
   "cell_type": "markdown",
   "metadata": {},
   "source": [
    "### Dataframes for 2222"
   ]
  },
  {
   "cell_type": "code",
   "execution_count": 16,
   "metadata": {},
   "outputs": [],
   "source": [
    "df2222_19 = r_get(2222, 2019)\n",
    "df2222_19.to_csv(\"df2222_19.csv\")\n",
    "df2222_18 = r_get(2222, 2018)\n",
    "df2222_18.to_csv(\"df2222_19.csv\")\n",
    "df2222_17 = r_get(2222, 2017)\n",
    "df2222_17.to_csv(\"df2222_17.csv\")\n"
   ]
  }
 ],
 "metadata": {
  "kernelspec": {
   "display_name": "project_dat_api",
   "language": "python",
   "name": "python3"
  },
  "language_info": {
   "codemirror_mode": {
    "name": "ipython",
    "version": 3
   },
   "file_extension": ".py",
   "mimetype": "text/x-python",
   "name": "python",
   "nbconvert_exporter": "python",
   "pygments_lexer": "ipython3",
   "version": "3.8.0"
  }
 },
 "nbformat": 4,
 "nbformat_minor": 4
}
