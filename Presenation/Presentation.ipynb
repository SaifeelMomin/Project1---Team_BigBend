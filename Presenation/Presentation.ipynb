{
 "cells": [
  {
   "cell_type": "code",
   "execution_count": 3,
   "metadata": {
    "scrolled": true
   },
   "outputs": [
    {
     "data": {
      "text/html": [
       "<script>\n",
       "code_show=true; \n",
       "function code_toggle() {\n",
       " if (code_show){\n",
       " $('div.input').hide();\n",
       " } else {\n",
       " $('div.input').show();\n",
       " }\n",
       " code_show = !code_show\n",
       "} \n",
       "$( document ).ready(code_toggle);\n",
       "</script>\n",
       "The raw code for this IPython notebook is by default hidden for easier reading.\n",
       "To toggle on/off the raw code, click <a href=\"javascript:code_toggle()\">here</a>."
      ],
      "text/plain": [
       "<IPython.core.display.HTML object>"
      ]
     },
     "execution_count": 3,
     "metadata": {},
     "output_type": "execute_result"
    }
   ],
   "source": [
    "HTML('''<script>\n",
    "code_show=true; \n",
    "function code_toggle() {\n",
    " if (code_show){\n",
    " $('div.input').hide();\n",
    " } else {\n",
    " $('div.input').show();\n",
    " }\n",
    " code_show = !code_show\n",
    "} \n",
    "$( document ).ready(code_toggle);\n",
    "</script>\n",
    "The raw code for this IPython notebook is by default hidden for easier reading.\n",
    "To toggle on/off the raw code, click <a href=\"javascript:code_toggle()\">here</a>.''')"
   ]
  },
  {
   "cell_type": "markdown",
   "metadata": {},
   "source": [
    "## AVERAGE ANNUAL DAILY TRAFFIC DATA"
   ]
  },
  {
   "cell_type": "markdown",
   "metadata": {},
   "source": [
    "![](Texas.png)\n",
    "![](txdot_api_data.png)\n",
    "\n",
    "\n",
    "![](Traffic_Density.png)\n"
   ]
  },
  {
   "cell_type": "markdown",
   "metadata": {},
   "source": [
    "## BLUETOOTH TRAFFIC SENSOR DATA"
   ]
  },
  {
   "cell_type": "markdown",
   "metadata": {},
   "source": [
    "![](raw_35.png)"
   ]
  },
  {
   "cell_type": "markdown",
   "metadata": {},
   "source": [
    "![](clean_df.png)"
   ]
  },
  {
   "cell_type": "code",
   "execution_count": 7,
   "metadata": {
    "scrolled": false
   },
   "outputs": [
    {
     "data": {
      "application/vnd.jupyter.widget-view+json": {
       "model_id": "d761ad822f0f4afcb2f9355ec426df4d",
       "version_major": 2,
       "version_minor": 0
      },
      "text/plain": [
       "VBox(children=(HBox(children=(Dropdown(description='Major Road/Highway', options={'IH-35': '35', 'US 183': '18…"
      ]
     },
     "metadata": {},
     "output_type": "display_data"
    }
   ],
   "source": [
    "import warnings\n",
    "warnings.filterwarnings(\"ignore\")\n",
    "import pandas as pd\n",
    "import os\n",
    "import plotly.graph_objects as go\n",
    "from ipywidgets import widgets\n",
    "import plotly.express as px\n",
    "from IPython.display import display\n",
    "from IPython.display import HTML\n",
    "\n",
    "df17 = pd.read_csv(\"df17.csv\")\n",
    "df18 = pd.read_csv(\"df18.csv\")\n",
    "df19 = pd.read_csv(\"df19.csv\")\n",
    "dfi = pd.read_csv(\"dfi_percent.csv\")\n",
    "dfi = dfi.set_index('hour')\n",
    "\n",
    "days = ['Monday','Tuesday','Wednesday','Thursday','Friday','Saturday','Sunday']\n",
    "opts = {'IH-35':'35', 'US 183':'183','Lamar':'lamar', 'Burnet':\"burnet\", \"RM2222\":\"2222\"}\n",
    "\n",
    "origin = widgets.Dropdown(options =  \n",
    "            opts,\n",
    "            description = 'Major Road/Highway',\n",
    "            disabled = False)\n",
    "day = widgets.SelectionSlider(options = days,\n",
    "                       value = 'Monday',\n",
    "                       desciption = 'Day of Week',\n",
    "                       continuous_update = True, \n",
    "                       orientation = 'horizontal',\n",
    "                       readout = True)\n",
    "\n",
    "trace17 = go.Line(x = df17.index, y = df17['35_Monday'], name = '2017 Traffic')\n",
    "trace18 = go.Line(x = df18.index, y = df18['35_Monday'], name = '2018 Traffic')\n",
    "trace19 = go.Line(x = df19.index, y = df19['35_Monday'], name = '2019 Traffic')\n",
    "tracei = go.Line(x= dfi.index, y = dfi['Monday'], name = 'Incidents', line ={'dash':'dash'})\n",
    "\n",
    "g = go.FigureWidget(data = (trace17, trace18, trace19, tracei),layout = go.Layout({'title' :'Percent of Total Cars and Incidents per Day by Hour',\n",
    "                                                                           'yaxis':{'fixedrange':True,\n",
    "                                                                                   'title_text':'Percent of Cars and Incidents'},\n",
    "                                                                          \"xaxis\": {\"tickmode\":'linear',\n",
    "                                                                                   \"dtick\":1,\n",
    "                                                                                   'title_text':'Hour of Day (24:00)'}}))\n",
    "def response(change):\n",
    "    temp_df17 = df17[(f'{origin.value}_{day.value}')]\n",
    "    temp_df18 = df18[(f'{origin.value}_{day.value}')]\n",
    "    temp_df19 = df19[(f'{origin.value}_{day.value}')]\n",
    "    temp_dfi = dfi[f'{day.value}']\n",
    "    with g.batch_update():\n",
    "        g.data[0].y = temp_df17\n",
    "        g.data[1].y = temp_df18\n",
    "        g.data[2].y = temp_df19\n",
    "        g.data[3].y = temp_dfi\n",
    "        g.update\n",
    "\n",
    "origin.observe(response, names = 'value')\n",
    "day.observe(response, names = 'value')\n",
    "container = widgets.HBox([origin, day])\n",
    "widgets.VBox([container, g])"
   ]
  },
  {
   "cell_type": "markdown",
   "metadata": {},
   "source": [
    "![](weekend.png)\n",
    "\n",
    "\n",
    "![](Traffic_Density.png)\n"
   ]
  },
  {
   "cell_type": "markdown",
   "metadata": {},
   "source": [
    "## TRAFFIC INCIDENT DATA "
   ]
  },
  {
   "cell_type": "markdown",
   "metadata": {},
   "source": [
    "![](speed_df.png)"
   ]
  },
  {
   "cell_type": "markdown",
   "metadata": {},
   "source": [
    "![](incident_impact.png)"
   ]
  },
  {
   "cell_type": "code",
   "execution_count": null,
   "metadata": {},
   "outputs": [],
   "source": []
  }
 ],
 "metadata": {
  "kernelspec": {
   "display_name": "Project1_API",
   "language": "python",
   "name": "project1_api"
  },
  "language_info": {
   "codemirror_mode": {
    "name": "ipython",
    "version": 3
   },
   "file_extension": ".py",
   "mimetype": "text/x-python",
   "name": "python",
   "nbconvert_exporter": "python",
   "pygments_lexer": "ipython3",
   "version": "3.8.0"
  }
 },
 "nbformat": 4,
 "nbformat_minor": 4
}
