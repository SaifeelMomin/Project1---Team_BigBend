{
 "cells": [
  {
   "cell_type": "code",
   "execution_count": 6,
   "metadata": {},
   "outputs": [],
   "source": [
    "import pandas as pd\n",
    "from create_db import engine\n",
    "from sqlalchemy.exc import ProgrammingError\n",
    "import warnings\n",
    "import numpy as np\n",
    "import requests\n",
    "import datetime\n",
    "import blackcellmagic"
   ]
  },
  {
   "cell_type": "code",
   "execution_count": 7,
   "metadata": {},
   "outputs": [
    {
     "data": {
      "text/plain": [
       "<sqlalchemy.engine.result.ResultProxy at 0x123560130>"
      ]
     },
     "execution_count": 7,
     "metadata": {},
     "output_type": "execute_result"
    }
   ],
   "source": [
    "\n",
    "DATABASE = \"team_big_bend\"\n",
    "engine.execute(f\"USE {DATABASE}\")"
   ]
  },
  {
   "cell_type": "code",
   "execution_count": 8,
   "metadata": {},
   "outputs": [
    {
     "data": {
      "text/plain": [
       "<sqlalchemy.engine.result.ResultProxy at 0x12341b580>"
      ]
     },
     "execution_count": 8,
     "metadata": {},
     "output_type": "execute_result"
    }
   ],
   "source": [
    "TABLENAME = \"bluetooth\"\n",
    "engine.execute(f\"DROP TABLE IF EXISTS {TABLENAME}\")"
   ]
  },
  {
   "cell_type": "code",
   "execution_count": 9,
   "metadata": {},
   "outputs": [],
   "source": [
    "#Set up the api url and parameters\n",
    "bluetooth_raw = []\n",
    "\n",
    "limit=50000\n",
    "offset=0\n",
    "\n",
    "while True:\n",
    "    r = requests.get(\"https://data.austintexas.gov/resource/x44q-icha.json?$where=origin_reader_identifier like '%amar_%'\"\n",
    "    , params = {\n",
    "    \"$limit\": limit,\n",
    "    \"$offset\": offset\n",
    "            })\n",
    "    if r.status_code == 200:\n",
    "        bluetooth_raw = [{\n",
    "        \"ID\": rec[\"record_id\"],\n",
    "        \"Start\": rec[\"origin_reader_identifier\"].upper(),\n",
    "        \"Ending\": rec[\"destination_reader_identifier\"].upper(),\n",
    "        \"TravelTime\": int(rec[\"travel_time_seconds\"]),\n",
    "        \"MPH\": int(rec[\"speed_miles_per_hour\"]),\n",
    "        \"StartTime\": rec[\"start_time\"],\n",
    "        \"EndTime\": rec[\"end_time\"]\n",
    "        } for rec in r.json()]\n",
    "        \n",
    "        #bluetooth_raw = r.json()\n",
    "    else:\n",
    "        print(\"***** IT IS BROKEN *****\")\n",
    "        print(r.status_code)\n",
    "        break\n",
    "    bluetooth_raw = pd.DataFrame(bluetooth_raw)\n",
    "    if bluetooth_raw.empty:\n",
    "        break\n",
    "    pd.DataFrame(bluetooth_raw).to_sql(name=TABLENAME, con=engine, if_exists='append')\n",
    "    offset=offset+limit"
   ]
  },
  {
   "cell_type": "code",
   "execution_count": null,
   "metadata": {},
   "outputs": [],
   "source": [
    "\n",
    "\n"
   ]
  },
  {
   "cell_type": "code",
   "execution_count": null,
   "metadata": {},
   "outputs": [],
   "source": [
    "\n",
    "\n"
   ]
  },
  {
   "cell_type": "code",
   "execution_count": null,
   "metadata": {},
   "outputs": [],
   "source": []
  },
  {
   "cell_type": "code",
   "execution_count": null,
   "metadata": {},
   "outputs": [],
   "source": []
  }
 ],
 "metadata": {
  "kernelspec": {
   "display_name": "project_1",
   "language": "python",
   "name": "project_1"
  },
  "language_info": {
   "codemirror_mode": {
    "name": "ipython",
    "version": 3
   },
   "file_extension": ".py",
   "mimetype": "text/x-python",
   "name": "python",
   "nbconvert_exporter": "python",
   "pygments_lexer": "ipython3",
   "version": "3.8.0"
  }
 },
 "nbformat": 4,
 "nbformat_minor": 4
}
